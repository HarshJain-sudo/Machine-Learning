{
 "cells": [
  {
   "cell_type": "code",
   "execution_count": 1,
   "id": "74cac71f",
   "metadata": {},
   "outputs": [],
   "source": [
    "# NUmpy - Numerical Python\n",
    "# Advantages of Numpy\n",
    "#   1. Allow several Mathematical Operations\n",
    "#   2. Faster Operations"
   ]
  },
  {
   "cell_type": "code",
   "execution_count": 2,
   "id": "92beb5c9",
   "metadata": {},
   "outputs": [],
   "source": [
    "import numpy as np"
   ]
  },
  {
   "cell_type": "code",
   "execution_count": 3,
   "id": "d29c4e8d",
   "metadata": {},
   "outputs": [],
   "source": [
    "# list vs numpy -> time taken"
   ]
  },
  {
   "cell_type": "code",
   "execution_count": 4,
   "id": "987de8a5",
   "metadata": {},
   "outputs": [],
   "source": [
    "from time import process_time"
   ]
  },
  {
   "cell_type": "code",
   "execution_count": 5,
   "id": "239b657e",
   "metadata": {},
   "outputs": [],
   "source": [
    "# time taken by a list"
   ]
  },
  {
   "cell_type": "code",
   "execution_count": 13,
   "id": "6594cffd",
   "metadata": {},
   "outputs": [
    {
     "name": "stdout",
     "output_type": "stream",
     "text": [
      "0.0\n"
     ]
    }
   ],
   "source": [
    "python_list = [i for i in range(10000)]\n",
    "\n",
    "start_time = process_time()\n",
    "\n",
    "python_list = [i+5 for i in python_list]\n",
    "\n",
    "end_time = process_time()\n",
    "\n",
    "print(end_time-start_time)"
   ]
  },
  {
   "cell_type": "code",
   "execution_count": 12,
   "id": "9ba77301",
   "metadata": {},
   "outputs": [
    {
     "name": "stdout",
     "output_type": "stream",
     "text": [
      "0.0\n"
     ]
    }
   ],
   "source": [
    "numpy_array = np.array([i for i in range(10000)])\n",
    "\n",
    "start_time = process_time()\n",
    "\n",
    "np_array = [i+5 for i in numpy_array]\n",
    "\n",
    "end_time = process_time()\n",
    "\n",
    "print(end_time-start_time)"
   ]
  },
  {
   "cell_type": "code",
   "execution_count": 16,
   "id": "b813708f",
   "metadata": {},
   "outputs": [
    {
     "name": "stdout",
     "output_type": "stream",
     "text": [
      "[1, 2, 3, 4]\n"
     ]
    },
    {
     "data": {
      "text/plain": [
       "list"
      ]
     },
     "execution_count": 16,
     "metadata": {},
     "output_type": "execute_result"
    }
   ],
   "source": [
    "# List\n",
    "\n",
    "list1 = [1, 2, 3, 4]\n",
    "print(list1)\n",
    "type(list1)"
   ]
  },
  {
   "cell_type": "code",
   "execution_count": 20,
   "id": "dfd54a4e",
   "metadata": {},
   "outputs": [
    {
     "name": "stdout",
     "output_type": "stream",
     "text": [
      "[1 2 3 4]\n"
     ]
    },
    {
     "data": {
      "text/plain": [
       "(4,)"
      ]
     },
     "execution_count": 20,
     "metadata": {},
     "output_type": "execute_result"
    }
   ],
   "source": [
    "# numpy array\n",
    "a = np.array([1, 2, 3, 4])\n",
    "print(a)\n",
    "type(a)\n",
    "a.shape"
   ]
  },
  {
   "cell_type": "code",
   "execution_count": 22,
   "id": "66e7b73d",
   "metadata": {},
   "outputs": [
    {
     "data": {
      "text/plain": [
       "(2, 4)"
      ]
     },
     "execution_count": 22,
     "metadata": {},
     "output_type": "execute_result"
    }
   ],
   "source": [
    "b = np.array([(1,2,3,4),(5,6,7,8)])\n",
    "b.shape"
   ]
  },
  {
   "cell_type": "code",
   "execution_count": 24,
   "id": "eefc0fcb",
   "metadata": {},
   "outputs": [
    {
     "name": "stdout",
     "output_type": "stream",
     "text": [
      "[[1. 2. 3. 4.]\n",
      " [5. 6. 7. 8.]]\n"
     ]
    }
   ],
   "source": [
    "b = np.array([(1,2,3,4),(5,6,7,8)], dtype=float)\n",
    "print(b)"
   ]
  },
  {
   "cell_type": "code",
   "execution_count": 28,
   "id": "57fb377d",
   "metadata": {},
   "outputs": [
    {
     "name": "stdout",
     "output_type": "stream",
     "text": [
      "[[0. 0. 0. 0. 0.]\n",
      " [0. 0. 0. 0. 0.]\n",
      " [0. 0. 0. 0. 0.]\n",
      " [0. 0. 0. 0. 0.]]\n"
     ]
    }
   ],
   "source": [
    "# Initial Placeholders in numpy array of zeroes\n",
    "x = np.zeros((4,5))\n",
    "print(x)"
   ]
  },
  {
   "cell_type": "code",
   "execution_count": 30,
   "id": "e40a6a3b",
   "metadata": {},
   "outputs": [
    {
     "name": "stdout",
     "output_type": "stream",
     "text": [
      "[[1. 1. 1. 1. 1.]\n",
      " [1. 1. 1. 1. 1.]\n",
      " [1. 1. 1. 1. 1.]\n",
      " [1. 1. 1. 1. 1.]]\n"
     ]
    }
   ],
   "source": [
    "x = np.ones((4,5))\n",
    "print(x)"
   ]
  },
  {
   "cell_type": "code",
   "execution_count": 32,
   "id": "a7ac6ee1",
   "metadata": {},
   "outputs": [
    {
     "name": "stdout",
     "output_type": "stream",
     "text": [
      "[[5 5 5 5]\n",
      " [5 5 5 5]\n",
      " [5 5 5 5]\n",
      " [5 5 5 5]\n",
      " [5 5 5 5]]\n"
     ]
    }
   ],
   "source": [
    "# array of particular value \n",
    "x = np.full((5,4), 5)\n",
    "print(x)"
   ]
  },
  {
   "cell_type": "code",
   "execution_count": 35,
   "id": "c1190030",
   "metadata": {},
   "outputs": [
    {
     "name": "stdout",
     "output_type": "stream",
     "text": [
      "[[1. 0. 0. 0.]\n",
      " [0. 1. 0. 0.]\n",
      " [0. 0. 1. 0.]\n",
      " [0. 0. 0. 1.]]\n"
     ]
    }
   ],
   "source": [
    "# create a identity matrix\n",
    "x = np.eye(4)\n",
    "print(x)"
   ]
  },
  {
   "cell_type": "code",
   "execution_count": 38,
   "id": "42cf55ee",
   "metadata": {},
   "outputs": [
    {
     "name": "stdout",
     "output_type": "stream",
     "text": [
      "[[0.78657703 0.45642469 0.23388588 0.78025714]\n",
      " [0.39214304 0.88823025 0.86320867 0.2886489 ]\n",
      " [0.01451864 0.49972026 0.38151615 0.76752267]]\n"
     ]
    }
   ],
   "source": [
    "# create a numpy array with random values\n",
    "x = np.random.random((3,4))\n",
    "print(x)"
   ]
  },
  {
   "cell_type": "code",
   "execution_count": 44,
   "id": "47304462",
   "metadata": {},
   "outputs": [
    {
     "name": "stdout",
     "output_type": "stream",
     "text": [
      "[[30 58 79 56 49]\n",
      " [33 56 96 50 79]]\n"
     ]
    }
   ],
   "source": [
    "# random integer values array in a specific range\n",
    "x = np.random.randint(10,100,(2,5))\n",
    "print(x)"
   ]
  },
  {
   "cell_type": "code",
   "execution_count": 46,
   "id": "f8641988",
   "metadata": {},
   "outputs": [
    {
     "name": "stdout",
     "output_type": "stream",
     "text": [
      "[10. 15. 20. 25. 30.]\n"
     ]
    }
   ],
   "source": [
    "# array of evenly spaced value  -> specifying the values required\n",
    "x = np.linspace(10,30,5)\n",
    "print(x)"
   ]
  },
  {
   "cell_type": "code",
   "execution_count": 49,
   "id": "b5f35613",
   "metadata": {},
   "outputs": [
    {
     "name": "stdout",
     "output_type": "stream",
     "text": [
      "[10 15 20 25]\n"
     ]
    }
   ],
   "source": [
    "# array of evenly spaced values -> specifying the steps\n",
    "\n",
    "x = np.arange(10,30,5)\n",
    "print(x)"
   ]
  },
  {
   "cell_type": "code",
   "execution_count": 51,
   "id": "6bba721b",
   "metadata": {},
   "outputs": [
    {
     "name": "stdout",
     "output_type": "stream",
     "text": [
      "[10 20 20 20 50]\n"
     ]
    },
    {
     "data": {
      "text/plain": [
       "numpy.ndarray"
      ]
     },
     "execution_count": 51,
     "metadata": {},
     "output_type": "execute_result"
    }
   ],
   "source": [
    "# convert a list into numpy array\n",
    "\n",
    "list_a = [10,20,20,20,50]\n",
    "np_array = np.array(list_a)\n",
    "print(np_array)\n",
    "type(np_array)"
   ]
  },
  {
   "cell_type": "code",
   "execution_count": 54,
   "id": "8fb3147b",
   "metadata": {},
   "outputs": [
    {
     "name": "stdout",
     "output_type": "stream",
     "text": [
      "[[65 17 37 31 28]\n",
      " [62 57 71 85 82]\n",
      " [33 44 17 22 75]\n",
      " [74 10 86 73 23]\n",
      " [37 31 76 14 74]]\n"
     ]
    }
   ],
   "source": [
    "# ANalysing a numpy array\n",
    "\n",
    "x = np.random.randint(10,90,(5,5))\n",
    "print(x)"
   ]
  },
  {
   "cell_type": "code",
   "execution_count": 56,
   "id": "8eab1c6c",
   "metadata": {},
   "outputs": [
    {
     "name": "stdout",
     "output_type": "stream",
     "text": [
      "(5, 5)\n"
     ]
    }
   ],
   "source": [
    "# array dimension \n",
    "print(x.shape)"
   ]
  },
  {
   "cell_type": "code",
   "execution_count": 58,
   "id": "833d5759",
   "metadata": {},
   "outputs": [
    {
     "name": "stdout",
     "output_type": "stream",
     "text": [
      "2\n"
     ]
    }
   ],
   "source": [
    "# no. of dimensions\n",
    "print(x.ndim)"
   ]
  },
  {
   "cell_type": "code",
   "execution_count": 60,
   "id": "3a48ee23",
   "metadata": {},
   "outputs": [
    {
     "name": "stdout",
     "output_type": "stream",
     "text": [
      "25\n"
     ]
    }
   ],
   "source": [
    "# no. of elments in array\n",
    "print(x.size)"
   ]
  },
  {
   "cell_type": "code",
   "execution_count": 62,
   "id": "204141b7",
   "metadata": {},
   "outputs": [
    {
     "name": "stdout",
     "output_type": "stream",
     "text": [
      "int32\n"
     ]
    }
   ],
   "source": [
    "# checking of datatype of value in array\n",
    "print(x.dtype)"
   ]
  },
  {
   "cell_type": "code",
   "execution_count": 63,
   "id": "465c8ffa",
   "metadata": {},
   "outputs": [],
   "source": [
    "# mathematical Operations on numpy array"
   ]
  },
  {
   "cell_type": "code",
   "execution_count": 66,
   "id": "0ddb3ce8",
   "metadata": {},
   "outputs": [
    {
     "name": "stdout",
     "output_type": "stream",
     "text": [
      "[1, 2, 3, 4, 5, 6, 7, 8, 9, 10]\n"
     ]
    }
   ],
   "source": [
    "list_a = [1,2,3,4,5]\n",
    "list_b = [6,7,8,9,10]\n",
    "print(list_a + list_b) \n",
    "# this concenate or joins two list"
   ]
  },
  {
   "cell_type": "code",
   "execution_count": 71,
   "id": "bbf83d40",
   "metadata": {},
   "outputs": [
    {
     "name": "stdout",
     "output_type": "stream",
     "text": [
      "[[3 0 1]\n",
      " [3 5 1]\n",
      " [0 3 2]]\n",
      "[[17 16 12]\n",
      " [12 17 13]\n",
      " [14 15 14]]\n",
      "[[20 16 13]\n",
      " [15 22 14]\n",
      " [14 18 16]]\n",
      "[[-14 -16 -11]\n",
      " [ -9 -12 -12]\n",
      " [-14 -12 -12]]\n",
      "[[51  0 12]\n",
      " [36 85 13]\n",
      " [ 0 45 28]]\n",
      "[[0.17647059 0.         0.08333333]\n",
      " [0.25       0.29411765 0.07692308]\n",
      " [0.         0.2        0.14285714]]\n"
     ]
    }
   ],
   "source": [
    "x = np.random.randint(0,10,(3,3))\n",
    "y = np.random.randint(10,20,(3,3))\n",
    "print(x)\n",
    "print(y)\n",
    "\n",
    "print(x+y)\n",
    "print(x-y)\n",
    "print(x*y)\n",
    "print(x/y)"
   ]
  },
  {
   "cell_type": "code",
   "execution_count": 74,
   "id": "68094dce",
   "metadata": {},
   "outputs": [
    {
     "name": "stdout",
     "output_type": "stream",
     "text": [
      "[[13 15 15]\n",
      " [19 11 19]\n",
      " [13 22 22]]\n",
      "[[-11 -11 -11]\n",
      " [-13  -9  -7]\n",
      " [-13  -8  -8]]\n",
      "[[ 12  26  26]\n",
      " [ 48  10  78]\n",
      " [  0 105 105]]\n",
      "[[0.08333333 0.15384615 0.15384615]\n",
      " [0.1875     0.1        0.46153846]\n",
      " [0.         0.46666667 0.46666667]]\n"
     ]
    }
   ],
   "source": [
    "x = np.random.randint(0,10,(3,3))\n",
    "y = np.random.randint(10,20,(3,3))\n",
    "print(np.add(x,y))\n",
    "print(np.subtract(x,y))\n",
    "print(np.multiply(x,y))\n",
    "print(np.divide(x,y))"
   ]
  },
  {
   "cell_type": "code",
   "execution_count": 76,
   "id": "87c45ab8",
   "metadata": {},
   "outputs": [
    {
     "name": "stdout",
     "output_type": "stream",
     "text": [
      "(2, 3)\n"
     ]
    }
   ],
   "source": [
    "# array manipulations\n",
    "\n",
    "array = np.random.randint(0,10,(2,3))\n",
    "print(array.shape)\n"
   ]
  },
  {
   "cell_type": "code",
   "execution_count": 79,
   "id": "54742443",
   "metadata": {},
   "outputs": [
    {
     "name": "stdout",
     "output_type": "stream",
     "text": [
      "[[3 5]\n",
      " [8 3]\n",
      " [3 0]]\n",
      "[[3 5]\n",
      " [8 3]\n",
      " [3 0]]\n"
     ]
    }
   ],
   "source": [
    "# transpose\n",
    "\n",
    "# method 1\n",
    "array = np.random.randint(0,10,(2,3))\n",
    "trans = np.transpose(array)\n",
    "print(trans)\n",
    "\n",
    "# method 2\n",
    "trans2 = array.T\n",
    "print(trans2)"
   ]
  },
  {
   "cell_type": "code",
   "execution_count": 82,
   "id": "27f07107",
   "metadata": {},
   "outputs": [
    {
     "name": "stdout",
     "output_type": "stream",
     "text": [
      "[[5 4 0]\n",
      " [2 0 7]]\n",
      "(2, 3)\n",
      "[[5 4]\n",
      " [0 2]\n",
      " [0 7]]\n",
      "(3, 2)\n"
     ]
    }
   ],
   "source": [
    "# reshaping array\n",
    "\n",
    "a =  np.random.randint(0,10,(2,3))\n",
    "print(a)\n",
    "print(a.shape)\n",
    "\n",
    "b = a.reshape(3,2)\n",
    "print(b)\n",
    "print(b.shape)"
   ]
  },
  {
   "cell_type": "code",
   "execution_count": null,
   "id": "42397aab",
   "metadata": {},
   "outputs": [],
   "source": [
    "# These all are the basics of numpy"
   ]
  }
 ],
 "metadata": {
  "kernelspec": {
   "display_name": "Python 3 (ipykernel)",
   "language": "python",
   "name": "python3"
  },
  "language_info": {
   "codemirror_mode": {
    "name": "ipython",
    "version": 3
   },
   "file_extension": ".py",
   "mimetype": "text/x-python",
   "name": "python",
   "nbconvert_exporter": "python",
   "pygments_lexer": "ipython3",
   "version": "3.10.9"
  }
 },
 "nbformat": 4,
 "nbformat_minor": 5
}
